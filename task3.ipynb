{
 "cells": [
  {
   "cell_type": "markdown",
   "id": "06865fbb-068a-4938-8678-f483682cf798",
   "metadata": {},
   "source": [
    "## Name : youssef ahmed yehia"
   ]
  },
  {
   "cell_type": "code",
   "execution_count": null,
   "id": "8ce82465-ef45-4487-82c9-903883bfc81b",
   "metadata": {},
   "outputs": [
    {
     "name": "stdout",
     "output_type": "stream",
     "text": [
      "Welcome to the Python calculator!\n"
     ]
    },
    {
     "name": "stdin",
     "output_type": "stream",
     "text": [
      "Enter the first number:  5\n",
      "Enter the second number:  0\n",
      "Select an operation: \n",
      " 1. 'Addition'\n",
      " 2. 'Subtraction'\n",
      " 3. 'Multiplication'\n",
      " 4. 'Division'\n",
      " 5. 'Exit'\n",
      "Enter your choice(1/2/3/4/5):  1\n"
     ]
    },
    {
     "name": "stdout",
     "output_type": "stream",
     "text": [
      "The result of 5.0+0.0 = 5.0\n"
     ]
    },
    {
     "name": "stdin",
     "output_type": "stream",
     "text": [
      "do you want to repeat? (yes) or (no):  yes\n"
     ]
    },
    {
     "name": "stdout",
     "output_type": "stream",
     "text": [
      "Welcome to the Python calculator!\n"
     ]
    },
    {
     "name": "stdin",
     "output_type": "stream",
     "text": [
      "Enter the first number:  y\n"
     ]
    },
    {
     "name": "stdout",
     "output_type": "stream",
     "text": [
      "Error! Please enter numbers only.\n",
      "Welcome to the Python calculator!\n"
     ]
    },
    {
     "name": "stdin",
     "output_type": "stream",
     "text": [
      "Enter the first number:  5\n",
      "Enter the second number:  0\n",
      "Select an operation: \n",
      " 1. 'Addition'\n",
      " 2. 'Subtraction'\n",
      " 3. 'Multiplication'\n",
      " 4. 'Division'\n",
      " 5. 'Exit'\n",
      "Enter your choice(1/2/3/4/5):  4\n"
     ]
    },
    {
     "name": "stdout",
     "output_type": "stream",
     "text": [
      "Error ,Division by zero is not allowed\n",
      "Welcome to the Python calculator!\n"
     ]
    },
    {
     "name": "stdin",
     "output_type": "stream",
     "text": [
      "Enter the first number:  59\n",
      "Enter the second number:  3\n",
      "Select an operation: \n",
      " 1. 'Addition'\n",
      " 2. 'Subtraction'\n",
      " 3. 'Multiplication'\n",
      " 4. 'Division'\n",
      " 5. 'Exit'\n",
      "Enter your choice(1/2/3/4/5):  3\n"
     ]
    },
    {
     "name": "stdout",
     "output_type": "stream",
     "text": [
      "The result of 59.0*3.0 =  177.0\n"
     ]
    }
   ],
   "source": [
    "def calculator():\n",
    "    flag = True\n",
    "    while flag :\n",
    "        print(\"Welcome to the Python calculator!\")\n",
    "       \n",
    "        try:\n",
    "            num1 = float(input(\"Enter the first number: \"))\n",
    "            num2 = float(input(\"Enter the second number: \"))  \n",
    "        except ValueError:\n",
    "            print(\"Error! Please enter numbers only.\")\n",
    "            continue\n",
    "       \n",
    "        operation_choosen = int(input(\"Select an operation: \\n 1. 'Addition'\\n 2. 'Subtraction'\\n 3. 'Multiplication'\\n 4. 'Division'\\n 5. 'Exit'\\nEnter your choice(1/2/3/4/5): \"))\n",
    "        if operation_choosen == 1 :\n",
    "            print(f'The result of {num1}+{num2} =',num1+num2)\n",
    "        elif operation_choosen == 2 :\n",
    "            print(f'The result of {num1}-{num2} =',num1-num2)\n",
    "        elif operation_choosen == 3 :\n",
    "            print(f'The result of {num1}*{num2} = ',num1*num2)\n",
    "        elif operation_choosen == 4 :\n",
    "            if num2 !=0 :\n",
    "                print(f'The result of {num1}/{num2} = ',num1/num2)\n",
    "            else:\n",
    "                print(\"Error ,Division by zero is not allowed\")\n",
    "                continue\n",
    "        elif operation_choosen == 5 :\n",
    "            print(\"Good Bye\")\n",
    "            flag = False \n",
    "            break\n",
    "        another_calc = input(\"do you want to repeat? (yes) or (no): \")\n",
    "        if another_calc != 'yes':\n",
    "            print(\"Good Bye\")\n",
    "            flag = False \n",
    "calculator()            "
   ]
  },
  {
   "cell_type": "code",
   "execution_count": null,
   "id": "9ac4ec3a-3128-414f-802c-a5fef2d7b723",
   "metadata": {},
   "outputs": [],
   "source": []
  }
 ],
 "metadata": {
  "kernelspec": {
   "display_name": "Python [conda env:base] *",
   "language": "python",
   "name": "conda-base-py"
  },
  "language_info": {
   "codemirror_mode": {
    "name": "ipython",
    "version": 3
   },
   "file_extension": ".py",
   "mimetype": "text/x-python",
   "name": "python",
   "nbconvert_exporter": "python",
   "pygments_lexer": "ipython3",
   "version": "3.13.5"
  }
 },
 "nbformat": 4,
 "nbformat_minor": 5
}
